{
 "cells": [
  {
   "cell_type": "markdown",
   "id": "8e533b33-2e59-4780-a1af-ddb0947a828e",
   "metadata": {},
   "source": [
    "### **Load libraries**"
   ]
  },
  {
   "cell_type": "code",
   "execution_count": 1,
   "id": "8a203e6b-1506-495b-95b4-b66f8a1702e3",
   "metadata": {},
   "outputs": [],
   "source": [
    "import pandas as pd\n",
    "import numpy as np\n",
    "import ipywidgets as widgets\n",
    "from IPython.display import display\n",
    "import datetime\n",
    "import matplotlib.pyplot as plt\n",
    "import seaborn as sns\n",
    "import yfinance as yf\n",
    "import risk_kit as rk\n",
    "import importlib\n",
    "\n",
    "import statsmodels.api as sm\n",
    "from statsmodels.graphics.tsaplots import plot_acf, plot_pacf\n",
    "from statsmodels.tsa.stattools import adfuller\n",
    "import statsmodels.tsa.stattools as sts\n",
    "from statsmodels.tsa.api import VAR\n",
    "\n",
    "import itertools\n",
    "import random"
   ]
  },
  {
   "cell_type": "code",
   "execution_count": 2,
   "id": "d6be3bc1-18d6-4abc-8eba-7c090be93397",
   "metadata": {},
   "outputs": [],
   "source": [
    "%load_ext autoreload\n",
    "%autoreload 2"
   ]
  },
  {
   "cell_type": "code",
   "execution_count": 3,
   "id": "62329e34-5b27-426a-b978-2fd71f7eed55",
   "metadata": {},
   "outputs": [],
   "source": [
    "pd.options.display.max_rows = 100\n",
    "pd.options.display.max_columns = 100"
   ]
  },
  {
   "cell_type": "markdown",
   "id": "79211313-fe55-4dd1-ae43-253ba6eab68b",
   "metadata": {},
   "source": [
    "### **Load data**"
   ]
  },
  {
   "cell_type": "code",
   "execution_count": 4,
   "id": "385061e9-7996-41cf-b9e4-6680f31bda63",
   "metadata": {},
   "outputs": [],
   "source": [
    "rets = pd.read_csv('all_rets.csv', index_col=0)\n",
    "stocks = pd.read_csv('all_stocks.csv', index_col=0)\n",
    "\n",
    "rets.index = pd.to_datetime(rets.index).to_period('W')\n",
    "stocks.index = pd.to_datetime(stocks.index).to_period('W')"
   ]
  },
  {
   "cell_type": "code",
   "execution_count": 5,
   "id": "784ca77f-cea2-4ae0-9b62-849fdda6b7ce",
   "metadata": {},
   "outputs": [],
   "source": [
    "# Define the number of periods per year for all calculations\n",
    "# 252 is an approximation for daily\n",
    "# 54 for weekly\n",
    "# 12 for monthly\n",
    "periods_per_year = 54"
   ]
  },
  {
   "cell_type": "code",
   "execution_count": 6,
   "id": "c3f23ed1-2f73-42a0-9bda-885a8f9cde90",
   "metadata": {},
   "outputs": [],
   "source": [
    "# Define start and end dates of the analysis\n",
    "days_of_analysis = 365*10   # 5 years\n",
    "end_date = str(datetime.date.today())\n",
    "start_date = str(datetime.date.today() - datetime.timedelta(days=days_of_analysis))"
   ]
  },
  {
   "cell_type": "code",
   "execution_count": 7,
   "id": "07a8b3fe-1ec7-49cf-9eb0-51fcdb98e42d",
   "metadata": {},
   "outputs": [],
   "source": [
    "rets = rets.loc[start_date:end_date]\n",
    "stocks = stocks.loc[start_date:end_date]"
   ]
  },
  {
   "cell_type": "markdown",
   "id": "2083d783-0dcb-45a9-bf8f-cf0064521ff2",
   "metadata": {},
   "source": [
    "### **Preprocessing - Analysis of stationarity**"
   ]
  },
  {
   "cell_type": "code",
   "execution_count": 8,
   "id": "d3f7e315-844f-4b22-bc37-eb92412cc1b7",
   "metadata": {
    "scrolled": true
   },
   "outputs": [
    {
     "name": "stdout",
     "output_type": "stream",
     "text": [
      "Augmented Dickey Fuller Test p-value for non-stationarity of level BCOLOMBIA.CL series: 0.0\n",
      "Augmented Dickey Fuller Test p-value for non-stationarity of level BOGOTA.CL series: 0.0\n",
      "Augmented Dickey Fuller Test p-value for non-stationarity of level BVC.CL series: 0.0\n",
      "Augmented Dickey Fuller Test p-value for non-stationarity of level CELSIA.CL series: 0.0\n",
      "Augmented Dickey Fuller Test p-value for non-stationarity of level CEMARGOS.CL series: 0.0\n",
      "Augmented Dickey Fuller Test p-value for non-stationarity of level CNEC.CL series: 0.0\n",
      "Augmented Dickey Fuller Test p-value for non-stationarity of level CONCONCRET.CL series: 0.0\n",
      "Augmented Dickey Fuller Test p-value for non-stationarity of level CORFICOLCF.CL series: 0.0\n",
      "Augmented Dickey Fuller Test p-value for non-stationarity of level ECOPETROL.CL series: 0.0\n",
      "Augmented Dickey Fuller Test p-value for non-stationarity of level ENKA.CL series: 0.0\n",
      "Augmented Dickey Fuller Test p-value for non-stationarity of level ETB.CL series: 0.0\n",
      "Augmented Dickey Fuller Test p-value for non-stationarity of level EXITO.CL series: 0.0\n",
      "Augmented Dickey Fuller Test p-value for non-stationarity of level GEB.CL series: 0.0\n",
      "Augmented Dickey Fuller Test p-value for non-stationarity of level GRUBOLIVAR.CL series: 0.0\n",
      "Augmented Dickey Fuller Test p-value for non-stationarity of level GRUPOARGOS.CL series: 0.0\n",
      "Augmented Dickey Fuller Test p-value for non-stationarity of level GRUPOAVAL.CL series: 0.0\n",
      "Augmented Dickey Fuller Test p-value for non-stationarity of level GRUPOSURA.CL series: 0.0\n",
      "Augmented Dickey Fuller Test p-value for non-stationarity of level HCOLSEL.CL series: 0.0\n",
      "Augmented Dickey Fuller Test p-value for non-stationarity of level ICOLCAP.CL series: 0.0\n",
      "Augmented Dickey Fuller Test p-value for non-stationarity of level ISA.CL series: 0.0\n",
      "Augmented Dickey Fuller Test p-value for non-stationarity of level MINEROS.CL series: 0.0\n",
      "Augmented Dickey Fuller Test p-value for non-stationarity of level NUTRESA.CL series: 0.0\n",
      "Augmented Dickey Fuller Test p-value for non-stationarity of level PFAVAL.CL series: 0.0\n",
      "Augmented Dickey Fuller Test p-value for non-stationarity of level PFBCOLOM.CL series: 0.0\n",
      "Augmented Dickey Fuller Test p-value for non-stationarity of level PFCORFICOL.CL series: 0.0\n",
      "Augmented Dickey Fuller Test p-value for non-stationarity of level PFDAVVNDA.CL series: 0.0\n",
      "Augmented Dickey Fuller Test p-value for non-stationarity of level PFGRUPOARG.CL series: 0.0\n",
      "Augmented Dickey Fuller Test p-value for non-stationarity of level PFGRUPSURA.CL series: 0.0\n",
      "Augmented Dickey Fuller Test p-value for non-stationarity of level PROMIGAS.CL series: 0.0\n",
      "Augmented Dickey Fuller Test p-value for non-stationarity of level TERPEL.CL series: 0.0\n",
      "Augmented Dickey Fuller Test p-value for non-stationarity of level AAPL series: 0.0\n",
      "Augmented Dickey Fuller Test p-value for non-stationarity of level AMZN series: 0.0\n",
      "Augmented Dickey Fuller Test p-value for non-stationarity of level BAC series: 0.0\n",
      "Augmented Dickey Fuller Test p-value for non-stationarity of level BRK-B series: 0.0\n",
      "Augmented Dickey Fuller Test p-value for non-stationarity of level C series: 0.0\n",
      "Augmented Dickey Fuller Test p-value for non-stationarity of level CBU7.L series: 0.0\n",
      "Augmented Dickey Fuller Test p-value for non-stationarity of level CENCOSUD.SN series: 0.0\n",
      "Augmented Dickey Fuller Test p-value for non-stationarity of level CHILE.SN series: 0.0\n",
      "Augmented Dickey Fuller Test p-value for non-stationarity of level CSPX.L series: 0.0\n",
      "Augmented Dickey Fuller Test p-value for non-stationarity of level EIMI.L series: 0.0\n",
      "Augmented Dickey Fuller Test p-value for non-stationarity of level F series: 0.0\n",
      "Augmented Dickey Fuller Test p-value for non-stationarity of level FALABELLA.SN series: 0.0\n",
      "Augmented Dickey Fuller Test p-value for non-stationarity of level GE series: 0.0\n",
      "Augmented Dickey Fuller Test p-value for non-stationarity of level GOOGL series: 0.0\n",
      "Augmented Dickey Fuller Test p-value for non-stationarity of level JETS series: 0.0\n",
      "Augmented Dickey Fuller Test p-value for non-stationarity of level JNJ series: 0.0\n",
      "Augmented Dickey Fuller Test p-value for non-stationarity of level JPM series: 0.0\n",
      "Augmented Dickey Fuller Test p-value for non-stationarity of level META series: 0.0\n",
      "Augmented Dickey Fuller Test p-value for non-stationarity of level NKE series: 0.0\n",
      "Augmented Dickey Fuller Test p-value for non-stationarity of level NVDA series: 0.0\n",
      "Augmented Dickey Fuller Test p-value for non-stationarity of level PBR series: 0.0\n",
      "Augmented Dickey Fuller Test p-value for non-stationarity of level PFE series: 0.0\n",
      "Augmented Dickey Fuller Test p-value for non-stationarity of level SGLD.L series: 0.0\n",
      "Augmented Dickey Fuller Test p-value for non-stationarity of level VOO series: 0.0\n"
     ]
    }
   ],
   "source": [
    "# Analysis of stationarity for the whole series\n",
    "for stock in rets.columns:\n",
    "    print(f'Augmented Dickey Fuller Test p-value for non-stationarity of level {stock} series: {round(adfuller(rets[stock])[1], 4)}')"
   ]
  },
  {
   "cell_type": "code",
   "execution_count": 9,
   "id": "a4c6870e-bf30-4b83-b1cb-f6fe48ec90eb",
   "metadata": {},
   "outputs": [],
   "source": [
    "# Generate train, validation and test sets to evaluate the accuracy of the model\n",
    "# 1st The model will be modeled based on the train data initially\n",
    "# 2nd The model will be fine tuned based on accuracy results with the validation set\n",
    "# 3rd it will be evaluated with the test set\n",
    "\n",
    "train_rets = rets.iloc[:-8].copy()\n",
    "val_rets = rets.iloc[-8:].copy()"
   ]
  },
  {
   "cell_type": "markdown",
   "id": "6d217426-6fa1-492a-bd48-d23a0014a222",
   "metadata": {},
   "source": [
    "### **Initial examination**"
   ]
  },
  {
   "cell_type": "code",
   "execution_count": 10,
   "id": "d1a28687-400b-4a45-a4fd-a2a98a34859b",
   "metadata": {},
   "outputs": [],
   "source": [
    "# Explore how some of these variables correlate with the first lag of other variables\n",
    "correlations = rk.corr_vars_vs_lags(train_rets, n_lags=20)"
   ]
  },
  {
   "cell_type": "code",
   "execution_count": 11,
   "id": "8d6ca89e-e08c-416a-b538-d72b8a721a25",
   "metadata": {
    "scrolled": true
   },
   "outputs": [
    {
     "data": {
      "text/plain": [
       "GOOGL           -0.084759\n",
       "PFGRUPSURA.CL   -0.070491\n",
       "NVDA            -0.052614\n",
       "EXITO.CL        -0.045321\n",
       "AAPL            -0.036519\n",
       "VOO             -0.028488\n",
       "F               -0.025667\n",
       "CEMARGOS.CL     -0.024053\n",
       "BOGOTA.CL       -0.023709\n",
       "FALABELLA.SN    -0.023252\n",
       "GRUPOSURA.CL    -0.017914\n",
       "CENCOSUD.SN     -0.014149\n",
       "GE              -0.013830\n",
       "ETB.CL          -0.010234\n",
       "META            -0.009940\n",
       "JETS            -0.006832\n",
       "AMZN            -0.006774\n",
       "MINEROS.CL      -0.003585\n",
       "GRUBOLIVAR.CL   -0.000234\n",
       "ENKA.CL          0.000046\n",
       "JNJ              0.003022\n",
       "PFGRUPOARG.CL    0.014227\n",
       "BAC              0.018419\n",
       "JPM              0.019976\n",
       "GRUPOAVAL.CL     0.020787\n",
       "NKE              0.021092\n",
       "SGLD.L           0.023373\n",
       "CONCONCRET.CL    0.023792\n",
       "C                0.026116\n",
       "GRUPOARGOS.CL    0.028545\n",
       "BRK-B            0.030058\n",
       "BVC.CL           0.033999\n",
       "EIMI.L           0.042966\n",
       "CELSIA.CL        0.043566\n",
       "CSPX.L           0.046116\n",
       "TERPEL.CL        0.046227\n",
       "CHILE.SN         0.048949\n",
       "ECOPETROL.CL     0.053450\n",
       "PFE              0.054804\n",
       "BCOLOMBIA.CL     0.056493\n",
       "CNEC.CL          0.056741\n",
       "NUTRESA.CL       0.056971\n",
       "CORFICOLCF.CL    0.063033\n",
       "HCOLSEL.CL       0.063472\n",
       "PROMIGAS.CL      0.063850\n",
       "PFAVAL.CL        0.070843\n",
       "PFCORFICOL.CL    0.074644\n",
       "PBR              0.078485\n",
       "PFDAVVNDA.CL     0.080374\n",
       "CBU7.L           0.081289\n",
       "ICOLCAP.CL       0.082150\n",
       "ISA.CL           0.097070\n",
       "PFBCOLOM.CL      0.122063\n",
       "GEB.CL           0.178096\n",
       "Name: 1, dtype: float64"
      ]
     },
     "execution_count": 11,
     "metadata": {},
     "output_type": "execute_result"
    }
   ],
   "source": [
    "(correlations['PFGRUPSURA.CL'].iloc[1].sort_values(ascending=True)\n",
    ")"
   ]
  },
  {
   "cell_type": "code",
   "execution_count": 12,
   "id": "570d0510-5e88-46dc-b34e-7db80b28129d",
   "metadata": {
    "scrolled": true
   },
   "outputs": [
    {
     "data": {
      "text/plain": [
       "CONCONCRET.CL    0.121484\n",
       "GRUPOARGOS.CL    0.067943\n",
       "ECOPETROL.CL     0.058714\n",
       "CHILE.SN         0.054970\n",
       "PFCORFICOL.CL    0.054729\n",
       "JPM              0.052157\n",
       "BAC              0.051919\n",
       "CEMARGOS.CL      0.051853\n",
       "C                0.051255\n",
       "JETS             0.050792\n",
       "PFGRUPOARG.CL    0.050374\n",
       "F                0.050090\n",
       "EXITO.CL         0.049458\n",
       "GRUPOSURA.CL     0.049350\n",
       "HCOLSEL.CL       0.048923\n",
       "NUTRESA.CL       0.048764\n",
       "ISA.CL           0.048018\n",
       "FALABELLA.SN     0.046708\n",
       "GEB.CL           0.046550\n",
       "CSPX.L           0.046459\n",
       "META             0.046339\n",
       "ICOLCAP.CL       0.045746\n",
       "GRUBOLIVAR.CL    0.045688\n",
       "BCOLOMBIA.CL     0.045296\n",
       "JNJ              0.044769\n",
       "PROMIGAS.CL      0.044534\n",
       "TERPEL.CL        0.044432\n",
       "GOOGL            0.044346\n",
       "NKE              0.044110\n",
       "CBU7.L           0.044028\n",
       "BOGOTA.CL        0.043796\n",
       "CORFICOLCF.CL    0.043442\n",
       "GRUPOAVAL.CL     0.043176\n",
       "SGLD.L           0.042484\n",
       "PFGRUPSURA.CL    0.042339\n",
       "CENCOSUD.SN      0.042037\n",
       "PFBCOLOM.CL      0.041663\n",
       "VOO              0.041572\n",
       "PFAVAL.CL        0.040814\n",
       "GE               0.040745\n",
       "PBR              0.040281\n",
       "AMZN             0.039786\n",
       "MINEROS.CL       0.039706\n",
       "BRK-B            0.039596\n",
       "BVC.CL           0.039576\n",
       "PFDAVVNDA.CL     0.038745\n",
       "CNEC.CL          0.038616\n",
       "ETB.CL           0.038385\n",
       "EIMI.L           0.038363\n",
       "ENKA.CL          0.038116\n",
       "AAPL             0.035941\n",
       "PFE              0.035442\n",
       "NVDA             0.034435\n",
       "CELSIA.CL        0.033827\n",
       "dtype: float64"
      ]
     },
     "execution_count": 12,
     "metadata": {},
     "output_type": "execute_result"
    }
   ],
   "source": [
    "# Identify the stocks with the highest and lowest average correlation with the 1st lag of other stocks\n",
    "mean_correlations_1st_lag = {}\n",
    "for var in correlations:\n",
    "    mean_correlations_1st_lag[var] = abs(correlations[var].iloc[1:5]).mean().mean()\n",
    "mean_correlations_1st_lag = pd.Series(mean_correlations_1st_lag).sort_values(ascending=False)\n",
    "mean_correlations_1st_lag"
   ]
  },
  {
   "cell_type": "code",
   "execution_count": 13,
   "id": "41410b02-fb1d-4236-b4fa-6cad56085a1f",
   "metadata": {},
   "outputs": [
    {
     "data": {
      "image/png": "[encoded data removed]",
      "text/plain": [
       "<Figure size 640x480 with 1 Axes>"
      ]
     },
     "metadata": {},
     "output_type": "display_data"
    }
   ],
   "source": [
    "# Identify the number of lags that suggest relevant information across all variables\n",
    "mean_lags = []\n",
    "for lag in range(20):\n",
    "    mean_correlations_n_lag = {}\n",
    "    for var in correlations:\n",
    "        mean_correlations_n_lag[var] = abs(correlations[var].iloc[lag]).mean().mean()\n",
    "    mean_lags.append(pd.Series(mean_correlations_n_lag))\n",
    "mean_lags = pd.concat(mean_lags, axis=1).mean(0)\n",
    "\n",
    "# Visualize the results\n",
    "mean_lags.iloc[1:].plot()\n",
    "plt.grid(alpha=.3)\n",
    "plt.title('Average mean absolute correlation across all stocks vs lags of other variables')\n",
    "plt.ylabel('Mean absolute correlation')\n",
    "plt.xlabel('Lag number')\n",
    "plt.xticks(np.arange(1, 20))\n",
    "plt.show()"
   ]
  },
  {
   "cell_type": "markdown",
   "id": "cfd5b49c-76e6-4718-8152-a2504db40536",
   "metadata": {},
   "source": [
    "### **VAR bagging**"
   ]
  },
  {
   "cell_type": "code",
   "execution_count": 14,
   "id": "145d0799-b703-4353-bdb6-cce6668d256b",
   "metadata": {},
   "outputs": [],
   "source": [
    "start_value = train_rets.iloc[0].copy()\n",
    "train_rets_integrated = (train_rets - train_rets.shift(1)).dropna()"
   ]
  },
  {
   "cell_type": "code",
   "execution_count": 15,
   "id": "ca44da8e-6755-4cce-ae2c-b1de4a5fe74a",
   "metadata": {},
   "outputs": [],
   "source": [
    "symbols_list = list(train_rets.columns.values) # List of all available stock symbols\n",
    "n_iterations = 2000 # The number of iterations of VAR models to perform\n",
    "set_size = 15 # Number of symbols modeled in each iteration\n",
    "periods_to_forecast = 8 # Number of periods to forecast\n",
    "\n",
    "# Initialize an empty list of sets of stock symbols\n",
    "iterations_symbols = []\n",
    "\n",
    "for i in range(n_iterations):\n",
    "    # For each iteration of the model, select a random set of 'set_size' stock symbols\n",
    "    iterations_symbols.append(random.sample(symbols_list, set_size))"
   ]
  },
  {
   "cell_type": "code",
   "execution_count": null,
   "id": "864a0ba1-3db6-48c9-87f6-e5a2ae327d49",
   "metadata": {
    "scrolled": true
   },
   "outputs": [
    {
     "name": "stdout",
     "output_type": "stream",
     "text": [
      "Iteration 0, ideal_n_lags: 15\n",
      "Iteration 1 finished\n",
      "Iteration 1, ideal_n_lags: 8\n",
      "Iteration 2 finished\n",
      "Iteration 2, ideal_n_lags: 13\n",
      "Iteration 3 finished\n",
      "Iteration 3, ideal_n_lags: 13\n",
      "Iteration 4 finished\n",
      "Iteration 4, ideal_n_lags: 11\n",
      "Iteration 5 finished\n",
      "Iteration 5, ideal_n_lags: 13\n",
      "Iteration 6 finished\n",
      "Iteration 6, ideal_n_lags: 15\n",
      "Iteration 7 finished\n",
      "Iteration 7, ideal_n_lags: 15\n",
      "Iteration 8 finished\n",
      "Iteration 8, ideal_n_lags: 12\n",
      "Iteration 9 finished\n",
      "Iteration 9, ideal_n_lags: 15\n",
      "Iteration 10 finished\n",
      "Iteration 10, ideal_n_lags: 14\n",
      "Iteration 11 finished\n",
      "Iteration 11, ideal_n_lags: 15\n",
      "Iteration 12 finished\n",
      "Iteration 12, ideal_n_lags: 6\n",
      "Iteration 13 finished\n",
      "Iteration 13, ideal_n_lags: 6\n",
      "Iteration 14 finished\n",
      "Iteration 14, ideal_n_lags: 15\n",
      "Iteration 15 finished\n",
      "Iteration 15, ideal_n_lags: 11\n",
      "Iteration 16 finished\n",
      "Iteration 16, ideal_n_lags: 7\n",
      "Iteration 17 finished\n",
      "Iteration 17, ideal_n_lags: 15\n",
      "Iteration 18 finished\n",
      "Iteration 18, ideal_n_lags: 13\n",
      "Iteration 19 finished\n",
      "Iteration 19, ideal_n_lags: 14\n",
      "Iteration 20 finished\n",
      "Iteration 20, ideal_n_lags: 14\n",
      "Iteration 21 finished\n",
      "Iteration 21, ideal_n_lags: 15\n",
      "Iteration 22 finished\n",
      "Iteration 22, ideal_n_lags: 15\n",
      "Iteration 23 finished\n",
      "Iteration 23, ideal_n_lags: 7\n",
      "Iteration 24 finished\n",
      "Iteration 24, ideal_n_lags: 11\n",
      "Iteration 25 finished\n",
      "Iteration 25, ideal_n_lags: 6\n",
      "Iteration 26 finished\n",
      "Iteration 26, ideal_n_lags: 15\n",
      "Iteration 27 finished\n",
      "Iteration 27, ideal_n_lags: 15\n",
      "Iteration 28 finished\n",
      "Iteration 28, ideal_n_lags: 8\n",
      "Iteration 29 finished\n",
      "Iteration 29, ideal_n_lags: 7\n",
      "Iteration 30 finished\n",
      "Iteration 30, ideal_n_lags: 8\n",
      "Iteration 31 finished\n",
      "Iteration 31, ideal_n_lags: 15\n",
      "Iteration 32 finished\n",
      "Iteration 32, ideal_n_lags: 15\n",
      "Iteration 33 finished\n",
      "Iteration 33, ideal_n_lags: 15\n",
      "Iteration 34 finished\n",
      "Iteration 34, ideal_n_lags: 6\n",
      "Iteration 35 finished\n",
      "Iteration 35, ideal_n_lags: 8\n",
      "Iteration 36 finished\n",
      "Iteration 36, ideal_n_lags: 13\n",
      "Iteration 37 finished\n",
      "Iteration 37, ideal_n_lags: 10\n",
      "Iteration 38 finished\n",
      "Iteration 38, ideal_n_lags: 14\n",
      "Iteration 39 finished\n",
      "Iteration 39, ideal_n_lags: 7\n",
      "Iteration 40 finished\n",
      "Iteration 40, ideal_n_lags: 15\n",
      "Iteration 41 finished\n",
      "Iteration 41, ideal_n_lags: 6\n",
      "Iteration 42 finished\n",
      "Iteration 42, ideal_n_lags: 15\n",
      "Iteration 43 finished\n",
      "Iteration 43, ideal_n_lags: 10\n",
      "Iteration 44 finished\n",
      "Iteration 44, ideal_n_lags: 6\n",
      "Iteration 45 finished\n",
      "Iteration 45, ideal_n_lags: 10\n",
      "Iteration 46 finished\n",
      "Iteration 46, ideal_n_lags: 15\n",
      "Iteration 47 finished\n",
      "Iteration 47, ideal_n_lags: 8\n",
      "Iteration 48 finished\n",
      "Iteration 48, ideal_n_lags: 15\n",
      "Iteration 49 finished\n",
      "Iteration 49, ideal_n_lags: 8\n",
      "Iteration 50 finished\n",
      "Iteration 50, ideal_n_lags: 14\n",
      "Iteration 51 finished\n",
      "Iteration 51, ideal_n_lags: 7\n",
      "Iteration 52 finished\n",
      "Iteration 52, ideal_n_lags: 6\n",
      "Iteration 53 finished\n",
      "Iteration 53, ideal_n_lags: 15\n",
      "Iteration 54 finished\n",
      "Iteration 54, ideal_n_lags: 8\n",
      "Iteration 55 finished\n",
      "Iteration 55, ideal_n_lags: 8\n",
      "Iteration 56 finished\n",
      "Iteration 56, ideal_n_lags: 8\n",
      "Iteration 57 finished\n",
      "Iteration 57, ideal_n_lags: 8\n",
      "Iteration 58 finished\n",
      "Iteration 58, ideal_n_lags: 15\n",
      "Iteration 59 finished\n",
      "Iteration 59, ideal_n_lags: 8\n",
      "Iteration 60 finished\n",
      "Iteration 60, ideal_n_lags: 15\n",
      "Iteration 61 finished\n",
      "Iteration 61, ideal_n_lags: 6\n",
      "Iteration 62 finished\n",
      "Iteration 62, ideal_n_lags: 15\n",
      "Iteration 63 finished\n",
      "Iteration 63, ideal_n_lags: 7\n",
      "Iteration 64 finished\n",
      "Iteration 64, ideal_n_lags: 8\n",
      "Iteration 65 finished\n",
      "Iteration 65, ideal_n_lags: 15\n",
      "Iteration 66 finished\n",
      "Iteration 66, ideal_n_lags: 10\n",
      "Iteration 67 finished\n",
      "Iteration 67, ideal_n_lags: 15\n",
      "Iteration 68 finished\n",
      "Iteration 68, ideal_n_lags: 8\n",
      "Iteration 69 finished\n",
      "Iteration 69, ideal_n_lags: 15\n",
      "Iteration 70 finished\n",
      "Iteration 70, ideal_n_lags: 15\n",
      "Iteration 71 finished\n",
      "Iteration 71, ideal_n_lags: 8\n",
      "Iteration 72 finished\n",
      "Iteration 72, ideal_n_lags: 7\n",
      "Iteration 73 finished\n",
      "Iteration 73, ideal_n_lags: 6\n",
      "Iteration 74 finished\n",
      "Iteration 74, ideal_n_lags: 14\n",
      "Iteration 75 finished\n",
      "Iteration 75, ideal_n_lags: 6\n",
      "Iteration 76 finished\n",
      "Iteration 76, ideal_n_lags: 12\n",
      "Iteration 77 finished\n",
      "Iteration 77, ideal_n_lags: 15\n",
      "Iteration 78 finished\n",
      "Iteration 78, ideal_n_lags: 15\n",
      "Iteration 79 finished\n",
      "Iteration 79, ideal_n_lags: 10\n",
      "Iteration 80 finished\n",
      "Iteration 80, ideal_n_lags: 8\n",
      "Iteration 81 finished\n",
      "Iteration 81, ideal_n_lags: 8\n",
      "Iteration 82 finished\n",
      "Iteration 82, ideal_n_lags: 8\n",
      "Iteration 83 finished\n",
      "Iteration 83, ideal_n_lags: 15\n",
      "Iteration 84 finished\n",
      "Iteration 84, ideal_n_lags: 6\n",
      "Iteration 85 finished\n",
      "Iteration 85, ideal_n_lags: 15\n",
      "Iteration 86 finished\n",
      "Iteration 86, ideal_n_lags: 13\n",
      "Iteration 87 finished\n",
      "Iteration 87, ideal_n_lags: 15\n",
      "Iteration 88 finished\n",
      "Iteration 88, ideal_n_lags: 7\n",
      "Iteration 89 finished\n",
      "Iteration 89, ideal_n_lags: 15\n",
      "Iteration 90 finished\n",
      "Iteration 90, ideal_n_lags: 8\n",
      "Iteration 91 finished\n",
      "Iteration 91, ideal_n_lags: 14\n",
      "Iteration 92 finished\n",
      "Iteration 92, ideal_n_lags: 6\n",
      "Iteration 93 finished\n",
      "Iteration 93, ideal_n_lags: 15\n",
      "Iteration 94 finished\n",
      "Iteration 94, ideal_n_lags: 6\n",
      "Iteration 95 finished\n",
      "Iteration 95, ideal_n_lags: 15\n",
      "Iteration 96 finished\n",
      "Iteration 96, ideal_n_lags: 6\n",
      "Iteration 97 finished\n",
      "Iteration 97, ideal_n_lags: 6\n",
      "Iteration 98 finished\n",
      "Iteration 98, ideal_n_lags: 15\n",
      "Iteration 99 finished\n",
      "Iteration 99, ideal_n_lags: 15\n",
      "Iteration 100 finished\n",
      "Iteration 100, ideal_n_lags: 14\n",
      "Iteration 101 finished\n",
      "Iteration 101, ideal_n_lags: 15\n",
      "Iteration 102 finished\n",
      "Iteration 102, ideal_n_lags: 7\n",
      "Iteration 103 finished\n",
      "Iteration 103, ideal_n_lags: 15\n",
      "Iteration 104 finished\n",
      "Iteration 104, ideal_n_lags: 11\n",
      "Iteration 105 finished\n",
      "Iteration 105, ideal_n_lags: 6\n",
      "Iteration 106 finished\n",
      "Iteration 106, ideal_n_lags: 6\n",
      "Iteration 107 finished\n",
      "Iteration 107, ideal_n_lags: 14\n",
      "Iteration 108 finished\n",
      "Iteration 108, ideal_n_lags: 15\n",
      "Iteration 109 finished\n",
      "Iteration 109, ideal_n_lags: 7\n",
      "Iteration 110 finished\n",
      "Iteration 110, ideal_n_lags: 15\n",
      "Iteration 111 finished\n",
      "Iteration 111, ideal_n_lags: 7\n",
      "Iteration 112 finished\n",
      "Iteration 112, ideal_n_lags: 15\n",
      "Iteration 113 finished\n",
      "Iteration 113, ideal_n_lags: 7\n",
      "Iteration 114 finished\n",
      "Iteration 114, ideal_n_lags: 15\n",
      "Iteration 115 finished\n",
      "Iteration 115, ideal_n_lags: 6\n",
      "Iteration 116 finished\n",
      "Iteration 116, ideal_n_lags: 15\n",
      "Iteration 117 finished\n",
      "Iteration 117, ideal_n_lags: 11\n",
      "Iteration 118 finished\n",
      "Iteration 118, ideal_n_lags: 6\n",
      "Iteration 119 finished\n",
      "Iteration 119, ideal_n_lags: 6\n",
      "Iteration 120 finished\n",
      "Iteration 120, ideal_n_lags: 15\n",
      "Iteration 121 finished\n",
      "Iteration 121, ideal_n_lags: 6\n",
      "Iteration 122 finished\n",
      "Iteration 122, ideal_n_lags: 9\n",
      "Iteration 123 finished\n",
      "Iteration 123, ideal_n_lags: 6\n",
      "Iteration 124 finished\n",
      "Iteration 124, ideal_n_lags: 15\n",
      "Iteration 125 finished\n",
      "Iteration 125, ideal_n_lags: 8\n",
      "Iteration 126 finished\n",
      "Iteration 126, ideal_n_lags: 15\n",
      "Iteration 127 finished\n",
      "Iteration 127, ideal_n_lags: 11\n",
      "Iteration 128 finished\n",
      "Iteration 128, ideal_n_lags: 6\n",
      "Iteration 129 finished\n",
      "Iteration 129, ideal_n_lags: 15\n",
      "Iteration 130 finished\n",
      "Iteration 130, ideal_n_lags: 8\n",
      "Iteration 131 finished\n",
      "Iteration 131, ideal_n_lags: 15\n",
      "Iteration 132 finished\n",
      "Iteration 132, ideal_n_lags: 6\n",
      "Iteration 133 finished\n",
      "Iteration 133, ideal_n_lags: 15\n",
      "Iteration 134 finished\n",
      "Iteration 134, ideal_n_lags: 15\n",
      "Iteration 135 finished\n",
      "Iteration 135, ideal_n_lags: 15\n",
      "Iteration 136 finished\n"
     ]
    }
   ],
   "source": [
    "# Initialize a dictionary of dictionaries where the results of each iteration will be stored\n",
    "prediction_results = {symbol: {} for symbol in symbols_list}\n",
    "\n",
    "for i, symbols_selection in enumerate(iterations_symbols):\n",
    "    subset_df = train_rets_integrated[symbols_selection]\n",
    "    # Compare the IC (Information Criteria) scores for VAR models of various number of lags to select the ideal number of lags\n",
    "    varmod = VAR(subset_df)\n",
    "    lag_sel = varmod.select_order(15)\n",
    "    # Select the best number of lags according to the AIC criterion\n",
    "    n_lags = lag_sel.aic\n",
    "    print(f'Iteration {i}, ideal_n_lags: {n_lags}')\n",
    "    # Fit the model for the iteration\n",
    "    var_model = VAR(subset_df).fit(maxlags=n_lags, trend='c')\n",
    "    predictions = var_model.forecast(subset_df.iloc[-n_lags:].values, periods_to_forecast)\n",
    "    predictions = pd.DataFrame(predictions)\n",
    "    for l in predictions:\n",
    "        prediction_results[symbols_selection[l]][i] = predictions[l]\n",
    "    print(f'Iteration {i+1} finished')"
   ]
  },
  {
   "cell_type": "code",
   "execution_count": null,
   "id": "e712249c-d9df-4db1-b3d0-14a703435c4c",
   "metadata": {},
   "outputs": [],
   "source": [
    "import warnings\n",
    "warnings.filterwarnings('ignore')\n",
    "\n",
    "prediction_results_processed = prediction_results.copy()\n",
    "for symbol in prediction_results:\n",
    "    pred_df = pd.DataFrame(prediction_results[symbol])\n",
    "    pred_series = pred_df.mean(axis=1)\n",
    "    pred_series = train_rets[symbol][-1] + pred_series.cumsum()\n",
    "    pred_series.index = val_rets.index\n",
    "    #pred_series = rk.invert_transformation(train_rets[symbol][-1], pred_series)\n",
    "    prediction_results_processed[symbol] = pred_series"
   ]
  },
  {
   "cell_type": "code",
   "execution_count": null,
   "id": "8916c8f6-35ac-49e4-b27d-0e76cfa38275",
   "metadata": {},
   "outputs": [],
   "source": [
    "symbol = 'AAPL'\n",
    "prediction_results_processed[symbol]"
   ]
  },
  {
   "cell_type": "code",
   "execution_count": null,
   "id": "f2fb6740-9522-4232-85bb-f1e4f7486177",
   "metadata": {},
   "outputs": [],
   "source": [
    "pd.concat([train_rets.iloc[-50:][symbol], val_rets[symbol]], axis=0).plot()\n",
    "prediction_results_processed[symbol].plot()\n",
    "plt.grid(alpha=.4)\n",
    "plt.title(symbol)\n",
    "plt.show()"
   ]
  },
  {
   "cell_type": "code",
   "execution_count": null,
   "id": "46fb05e1-5787-42cd-a889-98e5ab177884",
   "metadata": {},
   "outputs": [],
   "source": [
    "weight_indexes = np.array([i+1 for i in range(periods_to_forecast)])\n",
    "\n",
    "linear_decay_w = (periods_to_forecast - weight_indexes + 1)/weight_indexes.sum()\n",
    "lambda_ = 0.3\n",
    "exponential_decay_w = np.exp(-lambda_*weight_indexes)/np.exp(-lambda_*weight_indexes).sum()\n",
    "\n",
    "(exponential_decay_w, linear_decay_w)"
   ]
  },
  {
   "cell_type": "code",
   "execution_count": null,
   "id": "b54bee1f-3257-4551-8dcc-0d2b8e2cbb56",
   "metadata": {},
   "outputs": [],
   "source": [
    "predicted_yearly_return = ((prediction_results_processed[symbol] + 1).prod()**(1/len(prediction_results_processed[symbol])))**(periods_per_year) - 1\n",
    "linear_decay_predicted_yearly_return = (1 + np.sum(prediction_results_processed[symbol]*linear_decay_w))**periods_per_year - 1\n",
    "exponential_decay_predicted_yearly_return = (1 + np.sum(prediction_results_processed[symbol]*exponential_decay_w))**periods_per_year - 1\n",
    "historical_yearly_return = rk.summary_stats(train_rets[[symbol]][-108:], periods_per_year=periods_per_year)['Annualized Return'][0]\n",
    "actual_yearly_return = ((val_rets[symbol] + 1).prod()**(1/len(val_rets[symbol])))**(periods_per_year) - 1\n",
    "\n",
    "print(f'{predicted_yearly_return} - Predicted yearly returns')\n",
    "print(f'{linear_decay_predicted_yearly_return} - Linear decay predicted yearly returns')\n",
    "print(f'{exponential_decay_predicted_yearly_return} - Exponential decay predicted yearly returns')\n",
    "print(f'{historical_yearly_return} - Historical yearly returns')\n",
    "print(f'{actual_yearly_return} - Actual yearly returns')"
   ]
  },
  {
   "cell_type": "code",
   "execution_count": null,
   "id": "0eaa0128-6089-421d-ab90-230a2447dcdf",
   "metadata": {},
   "outputs": [],
   "source": [
    "preds_df = pd.DataFrame(prediction_results_processed)\n",
    "\n",
    "# Average RMSE across all stocks\n",
    "n8_periods_rmse = np.mean(np.sqrt(np.mean((preds_df - val_rets)**2, axis=0)))\n",
    "n4_periods_rmse = np.mean(np.sqrt(np.mean((preds_df.iloc[:4] - val_rets.iloc[:4])**2, axis=0)))\n",
    "n1_periods_rmse = np.mean(np.sqrt((preds_df.iloc[0] - val_rets.iloc[0])**2))\n",
    "\n",
    "print(f'1 period RMSE: {n1_periods_rmse.round(6)}')\n",
    "print(f'4 periods RMSE: {n4_periods_rmse.round(6)}')\n",
    "print(f'8 periods RMSE: {n8_periods_rmse.round(6)}')"
   ]
  },
  {
   "cell_type": "code",
   "execution_count": null,
   "id": "d3d9b2fc-3825-488e-a75f-fc4095a2924a",
   "metadata": {},
   "outputs": [],
   "source": []
  },
  {
   "cell_type": "markdown",
   "id": "11af1f52-c18d-49c1-9a81-0d1e9f354f86",
   "metadata": {},
   "source": [
    "### **Estimate parameters for the VAR model**"
   ]
  },
  {
   "cell_type": "code",
   "execution_count": null,
   "id": "36c02948-31f9-4ce7-a27a-fccea7b18e0f",
   "metadata": {},
   "outputs": [],
   "source": [
    "train_rets.columns"
   ]
  },
  {
   "cell_type": "code",
   "execution_count": null,
   "id": "aee9491e-25e1-4243-a76c-dca44f22c1d1",
   "metadata": {},
   "outputs": [],
   "source": [
    "symbols_selected = random.sample(list(train_rets.columns), 10)"
   ]
  },
  {
   "cell_type": "code",
   "execution_count": null,
   "id": "a0af77c8-29dc-444c-a964-b968ef5c5cd8",
   "metadata": {},
   "outputs": [],
   "source": [
    "symbols_selected"
   ]
  },
  {
   "cell_type": "code",
   "execution_count": null,
   "id": "8ab1aa55-b22f-4d92-b3c1-62df7c9ec840",
   "metadata": {},
   "outputs": [],
   "source": [
    "# Compare the IC (Information Criteria) scores for VAR models of various number of lags to select the ideal number of lags\n",
    "#varmod = VAR(train_rets)\n",
    "varmod = VAR(train_rets_integrated[symbols_selected])\n",
    "lag_sel = varmod.select_order(10)\n",
    "print(lag_sel.summary())"
   ]
  },
  {
   "cell_type": "code",
   "execution_count": null,
   "id": "54013a52-22a8-49d7-96a3-0bfe213fc6f8",
   "metadata": {},
   "outputs": [],
   "source": [
    "max_lags = lag_sel.aic"
   ]
  },
  {
   "cell_type": "code",
   "execution_count": null,
   "id": "6ee90cc3-721a-48b2-b993-feae6e59f31f",
   "metadata": {
    "scrolled": true
   },
   "outputs": [],
   "source": [
    "# Results of AIC for multiple VAR estimations suggest that 13 lags contain useful information for the 15 stocks selected\n",
    "var_model = VAR(train_rets_integrated[symbols_selected]).fit(maxlags=max_lags, trend='c')\n",
    "print(var_model.summary())"
   ]
  },
  {
   "cell_type": "code",
   "execution_count": null,
   "id": "18613fc0-0fcb-4b47-a1ce-fa2f8afc8c90",
   "metadata": {},
   "outputs": [],
   "source": [
    "# Test for absence of significant residual autocorrelations\n",
    "test_corr = var_model.test_whiteness(nlags=22, signif=0.05, adjusted=False)\n",
    "# There is no serial autocorrelation in residuals if p-value is more than 0.05\n",
    "test_corr.pvalue"
   ]
  },
  {
   "cell_type": "code",
   "execution_count": null,
   "id": "a7561c73-1bef-4399-9547-2a9428aa9358",
   "metadata": {},
   "outputs": [],
   "source": [
    "# Check if the VAR model is stable\n",
    "stest = var_model.is_stable()\n",
    "# The model is stable if the result is True\n",
    "stest"
   ]
  },
  {
   "cell_type": "code",
   "execution_count": null,
   "id": "33de9ca7-e321-456e-880f-69ae2482b75d",
   "metadata": {},
   "outputs": [],
   "source": [
    "# Check 'PFGRUPOARG.CL' and 'PFGRUPSURA.CL'"
   ]
  }
 ],
 "metadata": {
  "kernelspec": {
   "display_name": "Python 3 (ipykernel)",
   "language": "python",
   "name": "python3"
  },
  "language_info": {
   "codemirror_mode": {
    "name": "ipython",
    "version": 3
   },
   "file_extension": ".py",
   "mimetype": "text/x-python",
   "name": "python",
   "nbconvert_exporter": "python",
   "pygments_lexer": "ipython3",
   "version": "3.9.13"
  }
 },
 "nbformat": 4,
 "nbformat_minor": 5
}
