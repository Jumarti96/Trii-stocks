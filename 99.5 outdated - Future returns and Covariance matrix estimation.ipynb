{
 "cells": [
  {
   "cell_type": "markdown",
   "id": "8e533b33-2e59-4780-a1af-ddb0947a828e",
   "metadata": {},
   "source": [
    "### **Load libraries**"
   ]
  },
  {
   "cell_type": "code",
   "execution_count": 1,
   "id": "8a203e6b-1506-495b-95b4-b66f8a1702e3",
   "metadata": {},
   "outputs": [],
   "source": [
    "import pandas as pd\n",
    "import numpy as np\n",
    "import ipywidgets as widgets\n",
    "from IPython.display import display\n",
    "import datetime\n",
    "import matplotlib.pyplot as plt\n",
    "import seaborn as sns\n",
    "import yfinance as yf\n",
    "import risk_kit as rk\n",
    "import importlib\n",
    "\n",
    "from statsmodels.graphics.tsaplots import plot_acf, plot_pacf\n",
    "import statsmodels.api as sm\n",
    "import statsmodels.formula.api as smf\n",
    "from statsmodels.tsa.arima.model import ARIMA, ARIMAResults\n",
    "from pmdarima import auto_arima\n",
    "from statsmodels.tsa.stattools import adfuller\n",
    "import statsmodels.tsa.stattools as sts\n",
    "from mgarch import mgarch"
   ]
  },
  {
   "cell_type": "code",
   "execution_count": 2,
   "id": "d6be3bc1-18d6-4abc-8eba-7c090be93397",
   "metadata": {},
   "outputs": [],
   "source": [
    "%load_ext autoreload\n",
    "%autoreload 2"
   ]
  },
  {
   "cell_type": "code",
   "execution_count": 3,
   "id": "62329e34-5b27-426a-b978-2fd71f7eed55",
   "metadata": {},
   "outputs": [],
   "source": [
    "pd.options.display.max_rows = 100\n",
    "pd.options.display.max_columns = 100"
   ]
  },
  {
   "cell_type": "markdown",
   "id": "1146df3f-849b-4af7-b1c6-b4cf4d5467ed",
   "metadata": {},
   "source": [
    "### **Load data**"
   ]
  },
  {
   "cell_type": "code",
   "execution_count": 4,
   "id": "8d33ae6d-7b40-49e9-941d-816840e8c436",
   "metadata": {},
   "outputs": [],
   "source": [
    "rets = pd.read_csv('selected_stocks_rets.csv', index_col=0)\n",
    "stocks = pd.read_csv('selected_stocks_stocks.csv', index_col=0)\n",
    "\n",
    "rets.index = pd.to_datetime(rets.index).to_period('D')\n",
    "stocks.index = pd.to_datetime(stocks.index).to_period('D')"
   ]
  },
  {
   "cell_type": "code",
   "execution_count": 5,
   "id": "7606a027-a8e1-4f6c-867f-2de8dec352d1",
   "metadata": {},
   "outputs": [],
   "source": [
    "# Define the number of periods per year for all calculations\n",
    "# 252 is an approximation for daily\n",
    "# 54 for weekly\n",
    "# 12 for monthly\n",
    "periods_per_year = 252"
   ]
  },
  {
   "cell_type": "markdown",
   "id": "ca9f4097-56a6-43ba-ac1d-33ca64dbc769",
   "metadata": {},
   "source": [
    "# **Estimation of future Moving Average Returns**"
   ]
  },
  {
   "cell_type": "markdown",
   "id": "2083d783-0dcb-45a9-bf8f-cf0064521ff2",
   "metadata": {},
   "source": [
    "### **Analysis of stationarity**"
   ]
  },
  {
   "cell_type": "code",
   "execution_count": 6,
   "id": "1822ce1b-758c-42b2-9bb8-b50910e0fd1f",
   "metadata": {},
   "outputs": [],
   "source": [
    "# Define a window size for the calculation of Moving Average Returns\n",
    "# Previous analysis suggests that 63 days for a rolling window is a good number for models\n",
    "# It also comes from dividing 252 days by 4, to get the average number of days per month\n",
    "window_size = 63"
   ]
  },
  {
   "cell_type": "code",
   "execution_count": 7,
   "id": "d3f7e315-844f-4b22-bc37-eb92412cc1b7",
   "metadata": {
    "scrolled": true
   },
   "outputs": [
    {
     "name": "stdout",
     "output_type": "stream",
     "text": [
      "Augmented Dickey Fuller Test p-value for non-stationarity of level BCOLOMBIA.CL series: 0.0611\n",
      "Augmented Dickey Fuller Test p-value for non-stationarity of level BHI.CL series: 0.0338\n",
      "Augmented Dickey Fuller Test p-value for non-stationarity of level BOGOTA.CL series: 0.0718\n",
      "Augmented Dickey Fuller Test p-value for non-stationarity of level BVC.CL series: 0.1791\n",
      "Augmented Dickey Fuller Test p-value for non-stationarity of level CELSIA.CL series: 0.232\n",
      "Augmented Dickey Fuller Test p-value for non-stationarity of level CNEC.CL series: 0.0177\n",
      "Augmented Dickey Fuller Test p-value for non-stationarity of level CORFICOLCF.CL series: 0.1655\n",
      "Augmented Dickey Fuller Test p-value for non-stationarity of level EXITO.CL series: 0.012\n",
      "Augmented Dickey Fuller Test p-value for non-stationarity of level GEB.CL series: 0.1922\n",
      "Augmented Dickey Fuller Test p-value for non-stationarity of level GRUBOLIVAR.CL series: 0.0304\n",
      "Augmented Dickey Fuller Test p-value for non-stationarity of level GRUPOARGOS.CL series: 0.2349\n",
      "Augmented Dickey Fuller Test p-value for non-stationarity of level GRUPOAVAL.CL series: 0.6291\n",
      "Augmented Dickey Fuller Test p-value for non-stationarity of level GRUPOSURA.CL series: 0.0084\n",
      "Augmented Dickey Fuller Test p-value for non-stationarity of level HCOLSEL.CL series: 0.1451\n",
      "Augmented Dickey Fuller Test p-value for non-stationarity of level ICOLCAP.CL series: 0.0355\n",
      "Augmented Dickey Fuller Test p-value for non-stationarity of level ISA.CL series: 0.047\n",
      "Augmented Dickey Fuller Test p-value for non-stationarity of level MINEROS.CL series: 0.2163\n",
      "Augmented Dickey Fuller Test p-value for non-stationarity of level NUTRESA.CL series: 0.0123\n",
      "Augmented Dickey Fuller Test p-value for non-stationarity of level PFAVAL.CL series: 0.3908\n",
      "Augmented Dickey Fuller Test p-value for non-stationarity of level PFBCOLOM.CL series: 0.0294\n",
      "Augmented Dickey Fuller Test p-value for non-stationarity of level PFCORFICOL.CL series: 0.2278\n",
      "Augmented Dickey Fuller Test p-value for non-stationarity of level PFDAVVNDA.CL series: 0.0853\n",
      "Augmented Dickey Fuller Test p-value for non-stationarity of level PFGRUPOARG.CL series: 0.0983\n",
      "Augmented Dickey Fuller Test p-value for non-stationarity of level PFGRUPSURA.CL series: 0.287\n",
      "Augmented Dickey Fuller Test p-value for non-stationarity of level PROMIGAS.CL series: 0.3328\n",
      "Augmented Dickey Fuller Test p-value for non-stationarity of level TERPEL.CL series: 0.1198\n",
      "Augmented Dickey Fuller Test p-value for non-stationarity of level AAPL series: 0.0512\n",
      "Augmented Dickey Fuller Test p-value for non-stationarity of level BRK-B series: 0.0027\n",
      "Augmented Dickey Fuller Test p-value for non-stationarity of level CBU7.L series: 0.1249\n",
      "Augmented Dickey Fuller Test p-value for non-stationarity of level CENCOSUD.SN series: 0.0669\n",
      "Augmented Dickey Fuller Test p-value for non-stationarity of level CHILE.SN series: 0.0593\n",
      "Augmented Dickey Fuller Test p-value for non-stationarity of level F series: 0.0083\n",
      "Augmented Dickey Fuller Test p-value for non-stationarity of level FALABELLA.SN series: 0.0648\n",
      "Augmented Dickey Fuller Test p-value for non-stationarity of level ISAC.CL series: 0.0209\n",
      "Augmented Dickey Fuller Test p-value for non-stationarity of level JNJ series: 0.1556\n",
      "Augmented Dickey Fuller Test p-value for non-stationarity of level JPEA.CL series: 0.079\n",
      "Augmented Dickey Fuller Test p-value for non-stationarity of level NKE series: 0.0297\n",
      "Augmented Dickey Fuller Test p-value for non-stationarity of level PFE series: 0.0396\n",
      "Augmented Dickey Fuller Test p-value for non-stationarity of level SDHA.CL series: 0.0343\n",
      "Augmented Dickey Fuller Test p-value for non-stationarity of level SGLD.L series: 0.0324\n",
      "Augmented Dickey Fuller Test p-value for non-stationarity of level SUAS.CL series: 0.042\n",
      "Augmented Dickey Fuller Test p-value for non-stationarity of level UBER series: 0.0043\n"
     ]
    }
   ],
   "source": [
    "# Analysis of stationarity for the whole series\\\n",
    "# The results suggest that the series behaves as white noise so there aren't strong signs of current values depending on previous values\n",
    "for stock in rets.columns:\n",
    "    print(f'Augmented Dickey Fuller Test p-value for non-stationarity of level {stock} series: {round(adfuller(rets[stock].rolling(window_size).apply(lambda x: pd.Series(x+1).prod()**(1/window_size) - 1).dropna())[1], 4)}')"
   ]
  },
  {
   "cell_type": "code",
   "execution_count": 8,
   "id": "c6004ef1-83c6-4431-8977-f174a685ceb9",
   "metadata": {},
   "outputs": [],
   "source": [
    "# Visualize MA returns for some stocks\n",
    "# rets['CEMARGOS.CL'].rolling(window_size).apply(lambda x: pd.Series(x+1).prod()**(1/window_size) - 1).plot()"
   ]
  },
  {
   "cell_type": "markdown",
   "id": "9e83b9c4-d9cb-40e8-b657-e5a103dfc595",
   "metadata": {},
   "source": [
    "## **OLS on moving average returns**"
   ]
  },
  {
   "cell_type": "markdown",
   "id": "4235386e-2707-431e-982b-a1a25ff6e674",
   "metadata": {},
   "source": [
    "We model the average returns of the last 21 days as a function of the average returns and average volatility of the 12 months before it."
   ]
  },
  {
   "cell_type": "code",
   "execution_count": 9,
   "id": "41a4b463-9d1f-41b9-b3eb-2079ff1e7fb0",
   "metadata": {},
   "outputs": [],
   "source": [
    "def ols_ma_df(stock, data, window_size=30, num_lag_windows=1, params=['mean']):\n",
    "    model_df = data[[stock]].copy()\n",
    "    model_df[f'MA{window_size}_L{0}'] = model_df[stock].rolling(window_size).apply(lambda x: pd.Series(x+1).prod()**(1/window_size) - 1)\n",
    "    for i in range(num_lag_windows+1):\n",
    "        if 'mean' in params and i != 0:\n",
    "            model_df.loc[:, f'MA{window_size}_L{i}'] = model_df[stock].shift(i*window_size).rolling(window_size).apply(lambda x: pd.Series(x+1).prod()**(1/window_size) - 1)\n",
    "            model_df.loc[:, f'MA{window_size}_L{i}_squared'] = model_df[f'MA{window_size}_L{i}']**2\n",
    "            model_df.loc[:, f'MA{window_size}_L{i}_cubed'] = model_df[f'MA{window_size}_L{i}']**3\n",
    "        if 'stddev' in params and i != 0:\n",
    "            model_df.loc[:, f'MStdDev{window_size}_L{i}'] = model_df[stock].shift(i*window_size).rolling(window_size).std(ddof=0)\n",
    "    model_df.dropna(inplace=True)\n",
    "    endog = model_df[f'MA{window_size}_L0']\n",
    "    exog = model_df.drop(columns=[f'MA{window_size}_L0', stock])\n",
    "    return endog, exog"
   ]
  },
  {
   "cell_type": "code",
   "execution_count": 10,
   "id": "61249532-0911-4739-9a56-d82ee6eaac71",
   "metadata": {},
   "outputs": [],
   "source": [
    "def ols_ma_rets(stock, data, window_size=30, num_lag_windows=1, params=['mean']):\n",
    "    endog, exog = ols_ma_df(stock, data, window_size, num_lag_windows, params)\n",
    "    model = sm.OLS(endog=endog,\n",
    "                   exog=sm.add_constant(exog)).fit()\n",
    "    return model"
   ]
  },
  {
   "cell_type": "code",
   "execution_count": 11,
   "id": "e95961c5-333e-493e-9aea-fb42511a0298",
   "metadata": {},
   "outputs": [],
   "source": [
    "def ols_ma_predict(model, stock, data, window_size=30, num_lag_windows=1, params=['mean'], plot=False):\n",
    "    endog, exog = ols_ma_df(stock, data, window_size, num_lag_windows, params)\n",
    "    confidence_intervals = model.conf_int()\n",
    "    lower_bound = (model_df * confidence_intervals.iloc[:, 0]).sum(axis=1)\n",
    "    upper_bound = (model_df * confidence_intervals.iloc[:, 1]).sum(axis=1)\n",
    "    preds = model.predict(model_df)\n",
    "\n",
    "    if plot==True:\n",
    "        plt.figure(figsize=(10, 5))\n",
    "        # data[stock][-60:].plot(color='black', label='Actual returns')\n",
    "        # data[stock].rolling(21).mean()[-60:].plot(color='blue', label=f'Actual MA{window_size}')\n",
    "        preds.plot(color='orange', label=f'Predicted MA{window_size}')\n",
    "        lower_bound.plot(color='grey', linestyle='--')\n",
    "        upper_bound.plot(color='grey', linestyle='--')\n",
    "        plt.legend()\n",
    "        plt.grid(alpha=.3)\n",
    "        plt.show()\n",
    "        \n",
    "    return preds, lower_bound, upper_bound"
   ]
  },
  {
   "cell_type": "code",
   "execution_count": 12,
   "id": "1031bdbe-5342-46af-ba0f-d78caa368867",
   "metadata": {},
   "outputs": [],
   "source": [
    "def ols_ma_predict_test_set(model, stock, train_set, test_set, window_size=30, num_lag_windows=1, params=['mean'], plot=False):\n",
    "    data = pd.concat([train_set, test_set], axis=0)\n",
    "    endog, exog = ols_ma_df(stock, data, window_size, num_lag_windows, params)\n",
    "    exog = sm.add_constant(exog)\n",
    "    confidence_intervals = model.conf_int()\n",
    "    lower_bound = (exog * confidence_intervals.iloc[:, 0]).sum(axis=1)\n",
    "    upper_bound = (exog * confidence_intervals.iloc[:, 1]).sum(axis=1)\n",
    "    preds = model.predict(sm.add_constant(exog))\n",
    "\n",
    "    if plot==True:\n",
    "        plt.figure(figsize=(10, 5))\n",
    "        data[stock][-60:].plot(color='black', label='Actual returns')\n",
    "        data[stock].rolling(window_size).apply(lambda x: pd.Series(x+1).prod()**(1/window_size) - 1)[-60:].plot(color='blue', label=f'Actual MA{window_size}')\n",
    "        preds.loc[test_set.index.min():].plot(color='orange', label=f'Predicted MA{window_size}')\n",
    "        lower_bound[test_set.index.min():].plot(color='grey', linestyle='--')\n",
    "        upper_bound[test_set.index.min():].plot(color='grey', linestyle='--')\n",
    "        plt.legend()\n",
    "        plt.grid(alpha=.3)\n",
    "        plt.show()\n",
    "        \n",
    "    return preds, lower_bound, upper_bound, exog"
   ]
  },
  {
   "cell_type": "markdown",
   "id": "431dad21-83f0-4cb7-b3a7-000cba239112",
   "metadata": {},
   "source": [
    "### **Model test predicting the last 2 months**"
   ]
  },
  {
   "cell_type": "code",
   "execution_count": 13,
   "id": "0299b50d-9c9e-4b0a-a541-02df3c470ecf",
   "metadata": {},
   "outputs": [],
   "source": [
    "# Generate train, validation and test sets to evaluate the accuracy of the model\n",
    "# 1st The model will be modeled based on the train data initially\n",
    "# 2nd The model will be fine tuned based on accuracy results with the validation set\n",
    "# 3rd it will be evaluated with the test set\n",
    "\n",
    "train_set = rets.loc[: '2024-12'].copy()\n",
    "test_set = rets.loc['2025-01':].copy()"
   ]
  },
  {
   "cell_type": "code",
   "execution_count": 15,
   "id": "3cfa9a40-e55c-402d-bf7d-704973ae5508",
   "metadata": {},
   "outputs": [
    {
     "name": "stdout",
     "output_type": "stream",
     "text": [
      "                            OLS Regression Results                            \n",
      "==============================================================================\n",
      "Dep. Variable:                MA63_L0   R-squared:                       0.914\n",
      "Model:                            OLS   Adj. R-squared:                  0.906\n",
      "Method:                 Least Squares   F-statistic:                     103.4\n",
      "Date:                Wed, 05 Mar 2025   Prob (F-statistic):          1.09e-109\n",
      "Time:                        14:45:49   Log-Likelihood:                 1430.7\n",
      "No. Observations:                 257   AIC:                            -2811.\n",
      "Df Residuals:                     232   BIC:                            -2723.\n",
      "Df Model:                          24                                         \n",
      "Covariance Type:            nonrobust                                         \n",
      "===================================================================================\n",
      "                      coef    std err          t      P>|t|      [0.025      0.975]\n",
      "-----------------------------------------------------------------------------------\n",
      "const               0.0225      0.007      3.268      0.001       0.009       0.036\n",
      "MA63_L1            -0.3069      0.104     -2.950      0.004      -0.512      -0.102\n",
      "MA63_L1_squared   -57.3237     31.721     -1.807      0.072    -119.821       5.174\n",
      "MA63_L1_cubed    5947.9410   3475.463      1.711      0.088    -899.563    1.28e+04\n",
      "MStdDev63_L1       -0.1194      0.024     -4.989      0.000      -0.167      -0.072\n",
      "MA63_L2            -0.6683      0.133     -5.008      0.000      -0.931      -0.405\n",
      "MA63_L2_squared  -129.6140     31.744     -4.083      0.000    -192.157     -67.071\n",
      "MA63_L2_cubed    1.931e+04   3770.738      5.121      0.000    1.19e+04    2.67e+04\n",
      "MStdDev63_L2       -0.1079      0.033     -3.227      0.001      -0.174      -0.042\n",
      "MA63_L3            -0.6876      0.120     -5.723      0.000      -0.924      -0.451\n",
      "MA63_L3_squared   -17.6409     41.712     -0.423      0.673     -99.824      64.543\n",
      "MA63_L3_cubed    6701.9842   5399.395      1.241      0.216   -3936.130    1.73e+04\n",
      "MStdDev63_L3       -0.0605      0.060     -1.012      0.313      -0.178       0.057\n",
      "MA63_L4            -0.0755      0.113     -0.670      0.503      -0.297       0.146\n",
      "MA63_L4_squared    40.2400     18.343      2.194      0.029       4.100      76.380\n",
      "MA63_L4_cubed   -6302.7797   5869.764     -1.074      0.284   -1.79e+04    5262.075\n",
      "MStdDev63_L4       -0.2212      0.063     -3.524      0.001      -0.345      -0.098\n",
      "MA63_L5             0.0696      0.118      0.592      0.555      -0.162       0.301\n",
      "MA63_L5_squared   -10.2636     15.658     -0.655      0.513     -41.114      20.587\n",
      "MA63_L5_cubed   -8811.5168   5533.954     -1.592      0.113   -1.97e+04    2091.712\n",
      "MStdDev63_L5       -0.1165      0.069     -1.684      0.094      -0.253       0.020\n",
      "MA63_L6             0.3181      0.108      2.946      0.004       0.105       0.531\n",
      "MA63_L6_squared   -40.4321     18.531     -2.182      0.030     -76.942      -3.922\n",
      "MA63_L6_cubed   -9774.6309   3932.457     -2.486      0.014   -1.75e+04   -2026.739\n",
      "MStdDev63_L6        0.0451      0.076      0.597      0.551      -0.104       0.194\n",
      "==============================================================================\n",
      "Omnibus:                       15.981   Durbin-Watson:                   0.502\n",
      "Prob(Omnibus):                  0.000   Jarque-Bera (JB):               18.075\n",
      "Skew:                           0.537   Prob(JB):                     0.000119\n",
      "Kurtosis:                       3.731   Cond. No.                     1.13e+08\n",
      "==============================================================================\n",
      "\n",
      "Notes:\n",
      "[1] Standard Errors assume that the covariance matrix of the errors is correctly specified.\n",
      "[2] The smallest eigenvalue is 2.02e-14. This might indicate that there are\n",
      "strong multicollinearity problems or that the design matrix is singular.\n"
     ]
    }
   ],
   "source": [
    "# Examine the results \n",
    "window_size = 63\n",
    "model_test = ols_ma_rets('PFGRUPSURA.CL', train_set, window_size=window_size, num_lag_windows=6, params=['mean', 'stddev'])\n",
    "print(model_test.summary())"
   ]
  },
  {
   "cell_type": "code",
   "execution_count": 17,
   "id": "ee455d63-9ec7-449a-89c8-5fd798e32459",
   "metadata": {},
   "outputs": [
    {
     "data": {
      "image/png": "[encoded data removed]",
      "text/plain": [
       "<Figure size 1000x500 with 1 Axes>"
      ]
     },
     "metadata": {},
     "output_type": "display_data"
    }
   ],
   "source": [
    "preds = ols_ma_predict_test_set(model_test, 'PFGRUPSURA.CL', train_set, test_set, window_size=window_size, num_lag_windows=6, params=['mean', 'stddev'], plot=True)"
   ]
  },
  {
   "cell_type": "markdown",
   "id": "fb28fcd5-4aaf-4b81-9062-1e34fb810692",
   "metadata": {},
   "source": [
    "# **Predictions**"
   ]
  },
  {
   "cell_type": "code",
   "execution_count": 18,
   "id": "c1fd5990-450d-4e83-967b-b89e1215686f",
   "metadata": {},
   "outputs": [
    {
     "name": "stderr",
     "output_type": "stream",
     "text": [
      "C:\\Users\\jumar\\AppData\\Local\\Temp\\ipykernel_35616\\1835564372.py:46: FutureWarning: Series.__getitem__ treating keys as positions is deprecated. In a future version, integer keys will always be treated as labels (consistent with DataFrame behavior). To access a value by position, use `ser.iloc[pos]`\n",
      "  preds = (1 + future_preds[-1])**periods_per_year - 1\n",
      "C:\\Users\\jumar\\AppData\\Local\\Temp\\ipykernel_35616\\1835564372.py:46: FutureWarning: Series.__getitem__ treating keys as positions is deprecated. In a future version, integer keys will always be treated as labels (consistent with DataFrame behavior). To access a value by position, use `ser.iloc[pos]`\n",
      "  preds = (1 + future_preds[-1])**periods_per_year - 1\n",
      "C:\\Users\\jumar\\AppData\\Local\\Temp\\ipykernel_35616\\1835564372.py:46: FutureWarning: Series.__getitem__ treating keys as positions is deprecated. In a future version, integer keys will always be treated as labels (consistent with DataFrame behavior). To access a value by position, use `ser.iloc[pos]`\n",
      "  preds = (1 + future_preds[-1])**periods_per_year - 1\n",
      "C:\\Users\\jumar\\AppData\\Local\\Temp\\ipykernel_35616\\1835564372.py:46: FutureWarning: Series.__getitem__ treating keys as positions is deprecated. In a future version, integer keys will always be treated as labels (consistent with DataFrame behavior). To access a value by position, use `ser.iloc[pos]`\n",
      "  preds = (1 + future_preds[-1])**periods_per_year - 1\n",
      "C:\\Users\\jumar\\AppData\\Local\\Temp\\ipykernel_35616\\1835564372.py:46: FutureWarning: Series.__getitem__ treating keys as positions is deprecated. In a future version, integer keys will always be treated as labels (consistent with DataFrame behavior). To access a value by position, use `ser.iloc[pos]`\n",
      "  preds = (1 + future_preds[-1])**periods_per_year - 1\n",
      "C:\\Users\\jumar\\AppData\\Local\\Temp\\ipykernel_35616\\1835564372.py:46: FutureWarning: Series.__getitem__ treating keys as positions is deprecated. In a future version, integer keys will always be treated as labels (consistent with DataFrame behavior). To access a value by position, use `ser.iloc[pos]`\n",
      "  preds = (1 + future_preds[-1])**periods_per_year - 1\n",
      "C:\\Users\\jumar\\AppData\\Local\\Temp\\ipykernel_35616\\1835564372.py:46: FutureWarning: Series.__getitem__ treating keys as positions is deprecated. In a future version, integer keys will always be treated as labels (consistent with DataFrame behavior). To access a value by position, use `ser.iloc[pos]`\n",
      "  preds = (1 + future_preds[-1])**periods_per_year - 1\n",
      "C:\\Users\\jumar\\AppData\\Local\\Temp\\ipykernel_35616\\1835564372.py:46: FutureWarning: Series.__getitem__ treating keys as positions is deprecated. In a future version, integer keys will always be treated as labels (consistent with DataFrame behavior). To access a value by position, use `ser.iloc[pos]`\n",
      "  preds = (1 + future_preds[-1])**periods_per_year - 1\n",
      "C:\\Users\\jumar\\AppData\\Local\\Temp\\ipykernel_35616\\1835564372.py:46: FutureWarning: Series.__getitem__ treating keys as positions is deprecated. In a future version, integer keys will always be treated as labels (consistent with DataFrame behavior). To access a value by position, use `ser.iloc[pos]`\n",
      "  preds = (1 + future_preds[-1])**periods_per_year - 1\n",
      "C:\\Users\\jumar\\AppData\\Local\\Temp\\ipykernel_35616\\1835564372.py:46: FutureWarning: Series.__getitem__ treating keys as positions is deprecated. In a future version, integer keys will always be treated as labels (consistent with DataFrame behavior). To access a value by position, use `ser.iloc[pos]`\n",
      "  preds = (1 + future_preds[-1])**periods_per_year - 1\n",
      "C:\\Users\\jumar\\AppData\\Local\\Temp\\ipykernel_35616\\1835564372.py:46: FutureWarning: Series.__getitem__ treating keys as positions is deprecated. In a future version, integer keys will always be treated as labels (consistent with DataFrame behavior). To access a value by position, use `ser.iloc[pos]`\n",
      "  preds = (1 + future_preds[-1])**periods_per_year - 1\n",
      "C:\\Users\\jumar\\AppData\\Local\\Temp\\ipykernel_35616\\1835564372.py:46: FutureWarning: Series.__getitem__ treating keys as positions is deprecated. In a future version, integer keys will always be treated as labels (consistent with DataFrame behavior). To access a value by position, use `ser.iloc[pos]`\n",
      "  preds = (1 + future_preds[-1])**periods_per_year - 1\n",
      "C:\\Users\\jumar\\AppData\\Local\\Temp\\ipykernel_35616\\1835564372.py:46: FutureWarning: Series.__getitem__ treating keys as positions is deprecated. In a future version, integer keys will always be treated as labels (consistent with DataFrame behavior). To access a value by position, use `ser.iloc[pos]`\n",
      "  preds = (1 + future_preds[-1])**periods_per_year - 1\n",
      "C:\\Users\\jumar\\AppData\\Local\\Temp\\ipykernel_35616\\1835564372.py:46: FutureWarning: Series.__getitem__ treating keys as positions is deprecated. In a future version, integer keys will always be treated as labels (consistent with DataFrame behavior). To access a value by position, use `ser.iloc[pos]`\n",
      "  preds = (1 + future_preds[-1])**periods_per_year - 1\n",
      "C:\\Users\\jumar\\AppData\\Local\\Temp\\ipykernel_35616\\1835564372.py:46: FutureWarning: Series.__getitem__ treating keys as positions is deprecated. In a future version, integer keys will always be treated as labels (consistent with DataFrame behavior). To access a value by position, use `ser.iloc[pos]`\n",
      "  preds = (1 + future_preds[-1])**periods_per_year - 1\n",
      "C:\\Users\\jumar\\AppData\\Local\\Temp\\ipykernel_35616\\1835564372.py:46: FutureWarning: Series.__getitem__ treating keys as positions is deprecated. In a future version, integer keys will always be treated as labels (consistent with DataFrame behavior). To access a value by position, use `ser.iloc[pos]`\n",
      "  preds = (1 + future_preds[-1])**periods_per_year - 1\n",
      "C:\\Users\\jumar\\AppData\\Local\\Temp\\ipykernel_35616\\1835564372.py:46: FutureWarning: Series.__getitem__ treating keys as positions is deprecated. In a future version, integer keys will always be treated as labels (consistent with DataFrame behavior). To access a value by position, use `ser.iloc[pos]`\n",
      "  preds = (1 + future_preds[-1])**periods_per_year - 1\n",
      "C:\\Users\\jumar\\AppData\\Local\\Temp\\ipykernel_35616\\1835564372.py:46: FutureWarning: Series.__getitem__ treating keys as positions is deprecated. In a future version, integer keys will always be treated as labels (consistent with DataFrame behavior). To access a value by position, use `ser.iloc[pos]`\n",
      "  preds = (1 + future_preds[-1])**periods_per_year - 1\n",
      "C:\\Users\\jumar\\AppData\\Local\\Temp\\ipykernel_35616\\1835564372.py:46: FutureWarning: Series.__getitem__ treating keys as positions is deprecated. In a future version, integer keys will always be treated as labels (consistent with DataFrame behavior). To access a value by position, use `ser.iloc[pos]`\n",
      "  preds = (1 + future_preds[-1])**periods_per_year - 1\n",
      "C:\\Users\\jumar\\AppData\\Local\\Temp\\ipykernel_35616\\1835564372.py:46: FutureWarning: Series.__getitem__ treating keys as positions is deprecated. In a future version, integer keys will always be treated as labels (consistent with DataFrame behavior). To access a value by position, use `ser.iloc[pos]`\n",
      "  preds = (1 + future_preds[-1])**periods_per_year - 1\n",
      "C:\\Users\\jumar\\AppData\\Local\\Temp\\ipykernel_35616\\1835564372.py:46: FutureWarning: Series.__getitem__ treating keys as positions is deprecated. In a future version, integer keys will always be treated as labels (consistent with DataFrame behavior). To access a value by position, use `ser.iloc[pos]`\n",
      "  preds = (1 + future_preds[-1])**periods_per_year - 1\n",
      "C:\\Users\\jumar\\AppData\\Local\\Temp\\ipykernel_35616\\1835564372.py:46: FutureWarning: Series.__getitem__ treating keys as positions is deprecated. In a future version, integer keys will always be treated as labels (consistent with DataFrame behavior). To access a value by position, use `ser.iloc[pos]`\n",
      "  preds = (1 + future_preds[-1])**periods_per_year - 1\n",
      "C:\\Users\\jumar\\AppData\\Local\\Temp\\ipykernel_35616\\1835564372.py:46: FutureWarning: Series.__getitem__ treating keys as positions is deprecated. In a future version, integer keys will always be treated as labels (consistent with DataFrame behavior). To access a value by position, use `ser.iloc[pos]`\n",
      "  preds = (1 + future_preds[-1])**periods_per_year - 1\n",
      "C:\\Users\\jumar\\AppData\\Local\\Temp\\ipykernel_35616\\1835564372.py:46: FutureWarning: Series.__getitem__ treating keys as positions is deprecated. In a future version, integer keys will always be treated as labels (consistent with DataFrame behavior). To access a value by position, use `ser.iloc[pos]`\n",
      "  preds = (1 + future_preds[-1])**periods_per_year - 1\n",
      "C:\\Users\\jumar\\AppData\\Local\\Temp\\ipykernel_35616\\1835564372.py:46: FutureWarning: Series.__getitem__ treating keys as positions is deprecated. In a future version, integer keys will always be treated as labels (consistent with DataFrame behavior). To access a value by position, use `ser.iloc[pos]`\n",
      "  preds = (1 + future_preds[-1])**periods_per_year - 1\n",
      "C:\\Users\\jumar\\AppData\\Local\\Temp\\ipykernel_35616\\1835564372.py:46: FutureWarning: Series.__getitem__ treating keys as positions is deprecated. In a future version, integer keys will always be treated as labels (consistent with DataFrame behavior). To access a value by position, use `ser.iloc[pos]`\n",
      "  preds = (1 + future_preds[-1])**periods_per_year - 1\n",
      "C:\\Users\\jumar\\AppData\\Local\\Temp\\ipykernel_35616\\1835564372.py:46: FutureWarning: Series.__getitem__ treating keys as positions is deprecated. In a future version, integer keys will always be treated as labels (consistent with DataFrame behavior). To access a value by position, use `ser.iloc[pos]`\n",
      "  preds = (1 + future_preds[-1])**periods_per_year - 1\n",
      "C:\\Users\\jumar\\AppData\\Local\\Temp\\ipykernel_35616\\1835564372.py:46: FutureWarning: Series.__getitem__ treating keys as positions is deprecated. In a future version, integer keys will always be treated as labels (consistent with DataFrame behavior). To access a value by position, use `ser.iloc[pos]`\n",
      "  preds = (1 + future_preds[-1])**periods_per_year - 1\n",
      "C:\\Users\\jumar\\AppData\\Local\\Temp\\ipykernel_35616\\1835564372.py:46: FutureWarning: Series.__getitem__ treating keys as positions is deprecated. In a future version, integer keys will always be treated as labels (consistent with DataFrame behavior). To access a value by position, use `ser.iloc[pos]`\n",
      "  preds = (1 + future_preds[-1])**periods_per_year - 1\n",
      "C:\\Users\\jumar\\AppData\\Local\\Temp\\ipykernel_35616\\1835564372.py:46: FutureWarning: Series.__getitem__ treating keys as positions is deprecated. In a future version, integer keys will always be treated as labels (consistent with DataFrame behavior). To access a value by position, use `ser.iloc[pos]`\n",
      "  preds = (1 + future_preds[-1])**periods_per_year - 1\n",
      "C:\\Users\\jumar\\AppData\\Local\\Temp\\ipykernel_35616\\1835564372.py:46: FutureWarning: Series.__getitem__ treating keys as positions is deprecated. In a future version, integer keys will always be treated as labels (consistent with DataFrame behavior). To access a value by position, use `ser.iloc[pos]`\n",
      "  preds = (1 + future_preds[-1])**periods_per_year - 1\n",
      "C:\\Users\\jumar\\AppData\\Local\\Temp\\ipykernel_35616\\1835564372.py:46: FutureWarning: Series.__getitem__ treating keys as positions is deprecated. In a future version, integer keys will always be treated as labels (consistent with DataFrame behavior). To access a value by position, use `ser.iloc[pos]`\n",
      "  preds = (1 + future_preds[-1])**periods_per_year - 1\n"
     ]
    }
   ],
   "source": [
    "expected_annualized_rets = {}\n",
    "\n",
    "# Generate train and test sets to find the best model for each stock\n",
    "prediction_days = 63\n",
    "train_set = rets.iloc[:-prediction_days]\n",
    "test_set = rets.iloc[-prediction_days:]\n",
    "\n",
    "window_size = 63\n",
    "num_lag_windows = [l+1 for l in range(10)]\n",
    "\n",
    "# Iterate over each stock\n",
    "for stock in rets.columns:\n",
    "    # Initialize an empty dictionary to store scores\n",
    "    rmse = {}\n",
    "    # Calculate the RMSE for a naive prediction against which other predictions will be compared\n",
    "    naive = train_set[stock][-520:]\n",
    "    naive_rets = (1 + naive).prod()**(1/len(naive)) - 1\n",
    "    naive_rmse = np.sqrt(np.mean((test_set - naive_rets)**2))\n",
    "\n",
    "    # Iterate over each amount of lag windows\n",
    "    for i in range(1, 10):\n",
    "        # Fit the model with the corresponding num_lag_windows parameter for the iteration\n",
    "        model = ols_ma_rets(stock, train_set, window_size=window_size, num_lag_windows=i, params=['mean', 'stddev'])\n",
    "        # Make predictions based on the test set we already have\n",
    "        preds_actuals = ols_ma_predict_test_set(model, stock, train_set, test_set, window_size=window_size, num_lag_windows=i, params=['mean', 'stddev'])\n",
    "        preds = preds_actuals[0][-prediction_days:]\n",
    "\n",
    "        # Compare the predictions with the observed values\n",
    "        rmse[i] = np.sqrt(np.mean((test_set[stock] - preds)**2))\n",
    "    # Identify the best number of lags to use based on the RMSE\n",
    "    best_lag_windows = pd.Series(rmse).idxmin()\n",
    "    best_rmse = rmse[best_lag_windows]\n",
    "    if best_rmse < naive_rmse:\n",
    "        # If there was an RMSE better than the naive one, then make predictions with that model specification\n",
    "        # First fit the model with all the data for the stock\n",
    "        model = ols_ma_rets(stock, rets, window_size=window_size, num_lag_windows=best_lag_windows, params=['mean', 'stddev'])\n",
    "\n",
    "        # Make a df with 63 future dates for the preprocessing function\n",
    "        df_for_predict = rets.copy()\n",
    "        future_dates = pd.date_range(start=df_for_predict.index.max().to_timestamp() + pd.Timedelta(days=1), periods=prediction_days)\n",
    "        future_df = pd.DataFrame(index=future_dates, columns=rets.columns, data=0).to_period('D')\n",
    "        df_for_predict = pd.concat([df_for_predict, future_df], axis=0)\n",
    "        df_for_predict = sm.add_constant(ols_ma_df(stock, df_for_predict, window_size=window_size, num_lag_windows=best_lag_windows, params=['mean', 'stddev'])[1])\n",
    "        # Compute the predictions\n",
    "        future_preds = model.predict(df_for_predict)\n",
    "        preds = (1 + future_preds[-1])**periods_per_year - 1\n",
    "        # Extract the predictions for the average returns of the future days and store it in expected_daily_rets\n",
    "        expected_annualized_rets[stock] = preds\n",
    "    else:\n",
    "        # If the models don't seem to perform better than just taking the returns from the last n days based on the analysis window\n",
    "        historical = rets[stock][-520:]\n",
    "        historical_rets = rk.annualize_returns(historical, periods_per_year=periods_per_year)\n",
    "        expected_annualized_rets[stock] = historical_rets\n",
    "        "
   ]
  },
  {
   "cell_type": "code",
   "execution_count": 19,
   "id": "aef49125-0cf1-4495-b7c9-f2d95d372dca",
   "metadata": {
    "scrolled": true
   },
   "outputs": [
    {
     "data": {
      "text/plain": [
       "BCOLOMBIA.CL     0.184854\n",
       "BHI.CL           0.434538\n",
       "BOGOTA.CL        0.138840\n",
       "BVC.CL          -0.592973\n",
       "CELSIA.CL        0.459294\n",
       "CNEC.CL         -0.218733\n",
       "CORFICOLCF.CL    0.307341\n",
       "EXITO.CL        -0.451946\n",
       "GEB.CL           0.479725\n",
       "GRUBOLIVAR.CL   -0.575973\n",
       "GRUPOARGOS.CL    0.676780\n",
       "GRUPOAVAL.CL     0.120975\n",
       "GRUPOSURA.CL     0.133806\n",
       "HCOLSEL.CL       1.675121\n",
       "ICOLCAP.CL       0.651210\n",
       "ISA.CL           0.109233\n",
       "MINEROS.CL       0.632634\n",
       "NUTRESA.CL       0.511525\n",
       "PFAVAL.CL        0.084774\n",
       "PFBCOLOM.CL      0.290756\n",
       "PFCORFICOL.CL   -0.080434\n",
       "PFDAVVNDA.CL    -0.245234\n",
       "PFGRUPOARG.CL    0.696537\n",
       "PFGRUPSURA.CL    0.886135\n",
       "PROMIGAS.CL      0.364825\n",
       "TERPEL.CL        0.496801\n",
       "AAPL             0.281553\n",
       "BRK-B            0.455940\n",
       "CBU7.L           0.158586\n",
       "CENCOSUD.SN      1.205745\n",
       "CHILE.SN         0.294171\n",
       "F               -0.312682\n",
       "FALABELLA.SN     0.038733\n",
       "ISAC.CL         -0.433938\n",
       "JNJ             -0.283731\n",
       "JPEA.CL          0.597482\n",
       "NKE             -0.178274\n",
       "PFE             -0.232255\n",
       "SDHA.CL         -0.018805\n",
       "SGLD.L           0.151508\n",
       "SUAS.CL          0.185826\n",
       "UBER             0.140188\n",
       "dtype: float64"
      ]
     },
     "execution_count": 19,
     "metadata": {},
     "output_type": "execute_result"
    }
   ],
   "source": [
    "pd.Series(expected_annualized_rets)"
   ]
  },
  {
   "cell_type": "code",
   "execution_count": null,
   "id": "d8c86a25-f6d4-4ede-bfd2-8334a0381bb1",
   "metadata": {},
   "outputs": [],
   "source": [
    "# https://www.youtube.com/watch?v=mm0DA8zgHIs"
   ]
  },
  {
   "cell_type": "markdown",
   "id": "52ada6e6-2050-41d2-9050-45a758b759fa",
   "metadata": {},
   "source": [
    "### **Covariance matrix estimation**"
   ]
  },
  {
   "cell_type": "code",
   "execution_count": 20,
   "id": "00ab7f87-8c85-4b23-bec2-d4dee111f42b",
   "metadata": {},
   "outputs": [
    {
     "data": {
      "text/plain": [
       "\"\\n# Simple long-term covariance\\ncovmat = rets.cov()\\nreturns = summary_stats['Annualized Return']\\n\""
      ]
     },
     "execution_count": 20,
     "metadata": {},
     "output_type": "execute_result"
    }
   ],
   "source": [
    "\"\"\"\n",
    "# Simple long-term covariance\n",
    "covmat = rets.cov()\n",
    "returns = summary_stats['Annualized Return']\n",
    "\"\"\""
   ]
  },
  {
   "cell_type": "code",
   "execution_count": 21,
   "id": "e67e86cc-c987-4a2f-a0f8-017942368988",
   "metadata": {},
   "outputs": [],
   "source": [
    "summary_stats = rk.summary_stats(rets, periods_per_year=periods_per_year, riskfree_rate=0)\n",
    "returns = summary_stats['Annualized Return']\n",
    "\n",
    "# Recent covariance prediction based on recent days with GARCH model\n",
    "vol = mgarch('t')\n",
    "vol.fit(rets)\n",
    "ndays = 63\n",
    "covmat = vol.predict(ndays)\n",
    "covmat = pd.DataFrame(data=covmat['cov'], index=returns.index, columns=returns.index)"
   ]
  },
  {
   "cell_type": "markdown",
   "id": "540cc938-30bd-468f-8cfc-d402454d10b0",
   "metadata": {},
   "source": [
    "### **Export predicted returns and covariance matrix**"
   ]
  },
  {
   "cell_type": "code",
   "execution_count": 22,
   "id": "dacde599-f711-49b7-93c7-ab628d6942fd",
   "metadata": {},
   "outputs": [],
   "source": [
    "pd.Series(expected_annualized_rets).to_csv('expected_returns.csv', header=None)"
   ]
  },
  {
   "cell_type": "code",
   "execution_count": 23,
   "id": "6a96418a-8ea1-4f45-b89d-c7802bf3b6c6",
   "metadata": {},
   "outputs": [],
   "source": [
    "covmat.to_csv('expected_covmat.csv')"
   ]
  }
 ],
 "metadata": {
  "kernelspec": {
   "display_name": "Python 3 (ipykernel)",
   "language": "python",
   "name": "python3"
  },
  "language_info": {
   "codemirror_mode": {
    "name": "ipython",
    "version": 3
   },
   "file_extension": ".py",
   "mimetype": "text/x-python",
   "name": "python",
   "nbconvert_exporter": "python",
   "pygments_lexer": "ipython3",
   "version": "3.9.13"
  }
 },
 "nbformat": 4,
 "nbformat_minor": 5
}
